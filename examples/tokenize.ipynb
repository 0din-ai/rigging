{
 "cells": [
  {
   "cell_type": "markdown",
   "id": "8318787c",
   "metadata": {},
   "source": [
    "## Create a Calculator Tool"
   ]
  },
  {
   "cell_type": "code",
   "execution_count": 1,
   "id": "28abc318",
   "metadata": {},
   "outputs": [],
   "source": [
    "import rigging as rg\n",
    "import functools\n",
    "from functools import cached_property\n",
    "import asyncio\n",
    "import typing as t\n",
    "\n",
    "class Calculator:\n",
    "    def __init__(self):\n",
    "        self.result = 0\n",
    "\n",
    "    @cached_property\n",
    "    def tools(self) -> list[t.Callable[..., t.Any]]:\n",
    "        def wrap(func: t.Callable[..., t.Any]) -> t.Callable[..., t.Any]:\n",
    "            @rg.tool(catch=True)\n",
    "            @functools.wraps(func)\n",
    "            async def wrapper(*args: t.Any, **kwargs: t.Any) -> t.Any:\n",
    "                return await asyncio.to_thread(func, *args, **kwargs)\n",
    "\n",
    "            return wrapper\n",
    "\n",
    "        return [\n",
    "            wrap(func)\n",
    "            for func in (\n",
    "                self.add,\n",
    "                self.subtract,\n",
    "                self.multiply,\n",
    "                self.divide\n",
    "            )\n",
    "        ]\n",
    "\n",
    "    def add(self, x: int, y: int) -> int:\n",
    "        \"\"\"Adds two integers.\"\"\"\n",
    "        return x + y\n",
    "\n",
    "    def subtract(self, x: int, y: int) -> int:\n",
    "        \"\"\"Subtracts the second integer from the first.\"\"\"\n",
    "        return x - y\n",
    "\n",
    "    def multiply(self, x: int, y: int) -> int:\n",
    "        \"\"\"Multiplies two integers.\"\"\"\n",
    "        return x * y\n",
    "\n",
    "    def divide(self, x: int, y: int) -> float:\n",
    "        \"\"\"Divides the first integer by the second.\"\"\"\n",
    "        if y == 0:\n",
    "            raise ValueError(\"Cannot divide by zero.\")\n",
    "        return x / y\n"
   ]
  },
  {
   "cell_type": "markdown",
   "id": "70c53038",
   "metadata": {},
   "source": [
    "## Create a check answer callback"
   ]
  },
  {
   "cell_type": "code",
   "execution_count": 2,
   "id": "6a1c2a9b",
   "metadata": {},
   "outputs": [],
   "source": [
    "def check_answer(correct_answer: str) -> bool:\n",
    "    \"\"\"Check if the user's answer is correct.\"\"\"\n",
    "    async def evaluate(chat: rg.Chat) -> rg.Chat:\n",
    "        if correct_answer in chat.last.content:\n",
    "            chat.meta(result = {\"answer\": correct_answer, \"user\": chat.last.content, \"correct\": True})\n",
    "        \n",
    "        return chat\n",
    "    \n",
    "    return evaluate"
   ]
  },
  {
   "cell_type": "markdown",
   "id": "d1ea856c",
   "metadata": {},
   "source": [
    "## Create an agent that uses the Calculator"
   ]
  },
  {
   "cell_type": "code",
   "execution_count": 3,
   "id": "2962c1ac",
   "metadata": {},
   "outputs": [
    {
     "data": {
      "text/plain": [
       "Chat(uuid=UUID('cc8a7e7d-adc5-48a6-b739-25b7aaf9853f'), messages=[Message(role='system', tool_calls=None, tool_call_id=None, content='You are a helpful assistant.'), Message(role='user', tool_calls=None, tool_call_id=None, content='What is 2 + 2?'), Message(role='assistant', tool_calls=[ToolCall(id='ycb70ar94', type='function', function=FunctionCall(name='add', arguments='{\"x\":2,\"y\":2}'))], tool_call_id=None, content=''), Message(role='tool', tool_calls=None, tool_call_id='ycb70ar94', content='4')], generated=[Message(role='assistant', tool_calls=None, tool_call_id=None, content='The result of 2 + 2 is 4.')], metadata={'result': {'answer': '4', 'user': 'The result of 2 + 2 is 4.', 'correct': True}}, stop_reason='stop', failed=False)"
      ]
     },
     "execution_count": 3,
     "metadata": {},
     "output_type": "execute_result"
    }
   ],
   "source": [
    "generator = rg.get_generator(\"groq/meta-llama/llama-4-maverick-17b-128e-instruct\")\n",
    "\n",
    "calculator = Calculator()\n",
    "\n",
    "agent = await generator.chat(\n",
    "    [\n",
    "        {\"role\": \"system\", \"content\": \"You are a helpful assistant.\"},\n",
    "        {\"role\": \"user\", \"content\": \"What is 2 + 2?\"}\n",
    "    ]).using(calculator.tools).then(check_answer(\"4\")).run()\n",
    "\n",
    "agent"
   ]
  },
  {
   "cell_type": "markdown",
   "id": "12655a0c",
   "metadata": {},
   "source": [
    "## Tokenize the chat with a tokenizer"
   ]
  },
  {
   "cell_type": "code",
   "execution_count": 4,
   "id": "3a7ef6dc",
   "metadata": {},
   "outputs": [
    {
     "data": {
      "text/plain": [
       "TokenizedChat(text='<|im_start|>system\\nYou are a helpful assistant.\\n\\n# Tools\\n\\nYou may call one or more functions to assist with the user query.\\n\\nYou are provided with function signatures within <tools></tools> XML tags:\\n<tools>\\n{\"type\": \"function\", \"function\": {\"name\": \"add\", \"description\": \"Adds two integers.\", \"parameters\": {\"additionalProperties\": false, \"properties\": {\"x\": {\"title\": \"X\", \"type\": \"integer\"}, \"y\": {\"title\": \"Y\", \"type\": \"integer\"}}, \"required\": [\"x\", \"y\"], \"type\": \"object\"}}}\\n{\"type\": \"function\", \"function\": {\"name\": \"subtract\", \"description\": \"Subtracts the second integer from the first.\", \"parameters\": {\"additionalProperties\": false, \"properties\": {\"x\": {\"title\": \"X\", \"type\": \"integer\"}, \"y\": {\"title\": \"Y\", \"type\": \"integer\"}}, \"required\": [\"x\", \"y\"], \"type\": \"object\"}}}\\n{\"type\": \"function\", \"function\": {\"name\": \"multiply\", \"description\": \"Multiplies two integers.\", \"parameters\": {\"additionalProperties\": false, \"properties\": {\"x\": {\"title\": \"X\", \"type\": \"integer\"}, \"y\": {\"title\": \"Y\", \"type\": \"integer\"}}, \"required\": [\"x\", \"y\"], \"type\": \"object\"}}}\\n{\"type\": \"function\", \"function\": {\"name\": \"divide\", \"description\": \"Divides the first integer by the second.\", \"parameters\": {\"additionalProperties\": false, \"properties\": {\"x\": {\"title\": \"X\", \"type\": \"integer\"}, \"y\": {\"title\": \"Y\", \"type\": \"integer\"}}, \"required\": [\"x\", \"y\"], \"type\": \"object\"}}}\\n</tools>\\n\\nFor each function call, return a json object with function name and arguments within <tool_call></tool_call> XML tags:\\n<tool_call>\\n{\"name\": <function-name>, \"arguments\": <args-json-object>}\\n</tool_call><|im_end|>\\n<|im_start|>user\\nWhat is 2 + 2?<|im_end|>\\n<|im_start|>assistant\\n<tool_call>\\n{\"name\": \"add\", \"arguments\": \"{\\\\\"x\\\\\":2,\\\\\"y\\\\\":2}\"}\\n</tool_call><|im_end|>\\n<|im_start|>user\\n<tool_response>\\n4\\n</tool_response><|im_end|>\\n<|im_start|>assistant\\nThe result of 2 + 2 is 4.<|im_end|>\\n', tokens=[151644, 8948, 198, 2610, 525, 264, 10950, 17847, 382, 2, 13852, 271, 2610, 1231, 1618, 825, 476, 803, 5746, 311, 7789, 448, 279, 1196, 3239, 382, 2610, 525, 3897, 448, 729, 32628, 2878, 366, 15918, 1472, 15918, 29, 11874, 9492, 510, 27, 15918, 397, 4913, 1313, 788, 330, 1688, 497, 330, 1688, 788, 5212, 606, 788, 330, 718, 497, 330, 4684, 788, 330, 72111, 1378, 25780, 10465, 330, 13786, 788, 5212, 35499, 7903, 788, 895, 11, 330, 13193, 788, 5212, 87, 788, 5212, 2102, 788, 330, 55, 497, 330, 1313, 788, 330, 11662, 14345, 330, 88, 788, 5212, 2102, 788, 330, 56, 497, 330, 1313, 788, 330, 11662, 9207, 2137, 330, 6279, 788, 4383, 87, 497, 330, 88, 7914, 330, 1313, 788, 330, 1700, 30975, 532, 4913, 1313, 788, 330, 1688, 497, 330, 1688, 788, 5212, 606, 788, 330, 59442, 497, 330, 4684, 788, 330, 3136, 36188, 279, 2086, 7546, 504, 279, 1156, 10465, 330, 13786, 788, 5212, 35499, 7903, 788, 895, 11, 330, 13193, 788, 5212, 87, 788, 5212, 2102, 788, 330, 55, 497, 330, 1313, 788, 330, 11662, 14345, 330, 88, 788, 5212, 2102, 788, 330, 56, 497, 330, 1313, 788, 330, 11662, 9207, 2137, 330, 6279, 788, 4383, 87, 497, 330, 88, 7914, 330, 1313, 788, 330, 1700, 30975, 532, 4913, 1313, 788, 330, 1688, 497, 330, 1688, 788, 5212, 606, 788, 330, 64648, 497, 330, 4684, 788, 330, 20358, 7202, 1378, 25780, 10465, 330, 13786, 788, 5212, 35499, 7903, 788, 895, 11, 330, 13193, 788, 5212, 87, 788, 5212, 2102, 788, 330, 55, 497, 330, 1313, 788, 330, 11662, 14345, 330, 88, 788, 5212, 2102, 788, 330, 56, 497, 330, 1313, 788, 330, 11662, 9207, 2137, 330, 6279, 788, 4383, 87, 497, 330, 88, 7914, 330, 1313, 788, 330, 1700, 30975, 532, 4913, 1313, 788, 330, 1688, 497, 330, 1688, 788, 5212, 606, 788, 330, 59394, 497, 330, 4684, 788, 330, 12509, 3341, 279, 1156, 7546, 553, 279, 2086, 10465, 330, 13786, 788, 5212, 35499, 7903, 788, 895, 11, 330, 13193, 788, 5212, 87, 788, 5212, 2102, 788, 330, 55, 497, 330, 1313, 788, 330, 11662, 14345, 330, 88, 788, 5212, 2102, 788, 330, 56, 497, 330, 1313, 788, 330, 11662, 9207, 2137, 330, 6279, 788, 4383, 87, 497, 330, 88, 7914, 330, 1313, 788, 330, 1700, 30975, 532, 522, 15918, 1339, 2461, 1817, 729, 1618, 11, 470, 264, 2951, 1633, 448, 729, 829, 323, 5977, 2878, 220, 151657, 151658, 11874, 9492, 510, 151657, 198, 4913, 606, 788, 366, 1688, 11494, 8066, 330, 16370, 788, 366, 2116, 56080, 40432, 31296, 151658, 151645, 198, 151644, 872, 198, 3838, 374, 220, 17, 488, 220, 17, 30, 151645, 198, 151644, 77091, 198, 151657, 198, 4913, 606, 788, 330, 718, 497, 330, 16370, 788, 54734, 87, 11693, 17, 52318, 88, 11693, 17, 9863, 532, 151658, 151645, 198, 151644, 872, 198, 27, 14172, 9655, 397, 19, 198, 522, 14172, 9655, 29, 151645, 198, 151644, 77091, 198, 785, 1102, 315, 220, 17, 488, 220, 17, 374, 220, 19, 13, 151645, 198], slices=[TokenSlice(start=3, end=9, type='message', obj=Message(role='system', tool_calls=None, tool_call_id=None, content='You are a helpful assistant.'), metadata={'role': 'system'}), TokenSlice(start=430, end=438, type='message', obj=Message(role='user', tool_calls=None, tool_call_id=None, content='What is 2 + 2?'), metadata={'role': 'user'}), TokenSlice(start=438, end=439, type='message', obj=Message(role='assistant', tool_calls=[ToolCall(id='ycb70ar94', type='function', function=FunctionCall(name='add', arguments='{\"x\":2,\"y\":2}'))], tool_call_id=None, content=''), metadata={'role': 'assistant'}), TokenSlice(start=474, end=475, type='message', obj=Message(role='tool', tool_calls=None, tool_call_id='ycb70ar94', content='4'), metadata={'role': 'tool', 'tool_call_id': 'ycb70ar94'}), TokenSlice(start=485, end=497, type='message', obj=Message(role='assistant', tool_calls=None, tool_call_id=None, content='The result of 2 + 2 is 4.'), metadata={'role': 'assistant'})], obj=Chat(uuid=UUID('cc8a7e7d-adc5-48a6-b739-25b7aaf9853f'), messages=[Message(role='system', tool_calls=None, tool_call_id=None, content='You are a helpful assistant.'), Message(role='user', tool_calls=None, tool_call_id=None, content='What is 2 + 2?'), Message(role='assistant', tool_calls=[ToolCall(id='ycb70ar94', type='function', function=FunctionCall(name='add', arguments='{\"x\":2,\"y\":2}'))], tool_call_id=None, content=''), Message(role='tool', tool_calls=None, tool_call_id='ycb70ar94', content='4')], generated=[Message(role='assistant', tool_calls=None, tool_call_id=None, content='The result of 2 + 2 is 4.')], metadata={'result': {'answer': '4', 'user': 'The result of 2 + 2 is 4.', 'correct': True}}, stop_reason='stop', failed=False))"
      ]
     },
     "execution_count": 4,
     "metadata": {},
     "output_type": "execute_result"
    }
   ],
   "source": [
    "await agent.to_tokens('Qwen/Qwen2.5-1.5B-Instruct')"
   ]
  },
  {
   "cell_type": "code",
   "execution_count": null,
   "id": "83e4a656",
   "metadata": {},
   "outputs": [],
   "source": []
  }
 ],
 "metadata": {
  "kernelspec": {
   "display_name": ".venv",
   "language": "python",
   "name": "python3"
  },
  "language_info": {
   "codemirror_mode": {
    "name": "ipython",
    "version": 3
   },
   "file_extension": ".py",
   "mimetype": "text/x-python",
   "name": "python",
   "nbconvert_exporter": "python",
   "pygments_lexer": "ipython3",
   "version": "3.12.9"
  }
 },
 "nbformat": 4,
 "nbformat_minor": 5
}
